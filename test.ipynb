{
 "cells": [
  {
   "cell_type": "code",
   "execution_count": 3,
   "metadata": {},
   "outputs": [],
   "source": [
    "import numpy as np\n",
    "import pandas as pd\n",
    "import matplotlib.pyplot as plt\n",
    "import sys"
   ]
  },
  {
   "cell_type": "code",
   "execution_count": 2,
   "metadata": {},
   "outputs": [
    {
     "data": {
      "text/html": [
       "<div>\n",
       "<style scoped>\n",
       "    .dataframe tbody tr th:only-of-type {\n",
       "        vertical-align: middle;\n",
       "    }\n",
       "\n",
       "    .dataframe tbody tr th {\n",
       "        vertical-align: top;\n",
       "    }\n",
       "\n",
       "    .dataframe thead th {\n",
       "        text-align: right;\n",
       "    }\n",
       "</style>\n",
       "<table border=\"1\" class=\"dataframe\">\n",
       "  <thead>\n",
       "    <tr style=\"text-align: right;\">\n",
       "      <th></th>\n",
       "      <th>nome</th>\n",
       "      <th>età</th>\n",
       "      <th>tipo</th>\n",
       "      <th>consumo_benzina_litro_urbano</th>\n",
       "      <th>consumo_benzina_litro_extraurbano</th>\n",
       "      <th>consumo_gpl_litro_urbano</th>\n",
       "      <th>consumo_gpl_litro_extraurbano</th>\n",
       "      <th>percentuale_gpl</th>\n",
       "      <th>percentuale_urbano</th>\n",
       "      <th>potenza</th>\n",
       "      <th>costo_iniziale</th>\n",
       "      <th>costo_manutenzione</th>\n",
       "    </tr>\n",
       "  </thead>\n",
       "  <tbody>\n",
       "    <tr>\n",
       "      <th>0</th>\n",
       "      <td>Sandero_Streetway_2021</td>\n",
       "      <td>0</td>\n",
       "      <td>GPL</td>\n",
       "      <td>5.4</td>\n",
       "      <td>0</td>\n",
       "      <td>7</td>\n",
       "      <td>0</td>\n",
       "      <td>0.66</td>\n",
       "      <td>1</td>\n",
       "      <td>74</td>\n",
       "      <td>14500</td>\n",
       "      <td>250</td>\n",
       "    </tr>\n",
       "    <tr>\n",
       "      <th>1</th>\n",
       "      <td>Toyota_Yaris_Cross_2022</td>\n",
       "      <td>0</td>\n",
       "      <td>BENZINA</td>\n",
       "      <td>4.4</td>\n",
       "      <td>0</td>\n",
       "      <td>0</td>\n",
       "      <td>0</td>\n",
       "      <td>0.00</td>\n",
       "      <td>1</td>\n",
       "      <td>85</td>\n",
       "      <td>23150</td>\n",
       "      <td>150</td>\n",
       "    </tr>\n",
       "  </tbody>\n",
       "</table>\n",
       "</div>"
      ],
      "text/plain": [
       "                      nome  età     tipo  consumo_benzina_litro_urbano  \\\n",
       "0   Sandero_Streetway_2021    0      GPL                           5.4   \n",
       "1  Toyota_Yaris_Cross_2022    0  BENZINA                           4.4   \n",
       "\n",
       "   consumo_benzina_litro_extraurbano  consumo_gpl_litro_urbano  \\\n",
       "0                                  0                         7   \n",
       "1                                  0                         0   \n",
       "\n",
       "   consumo_gpl_litro_extraurbano  percentuale_gpl  percentuale_urbano  \\\n",
       "0                              0             0.66                   1   \n",
       "1                              0             0.00                   1   \n",
       "\n",
       "   potenza  costo_iniziale  costo_manutenzione  \n",
       "0       74           14500                 250  \n",
       "1       85           23150                 150  "
      ]
     },
     "execution_count": 2,
     "metadata": {},
     "output_type": "execute_result"
    }
   ],
   "source": [
    "data = pd.read_csv('data\\car_database.csv')\n",
    "data"
   ]
  },
  {
   "cell_type": "code",
   "execution_count": 22,
   "metadata": {},
   "outputs": [],
   "source": [
    "class Auto:\n",
    "\n",
    "    TIPO = ''\n",
    "    \n",
    "    def __init__(self, nome, eta):\n",
    "        self.nome = nome\n",
    "        self.eta = eta\n",
    "    \n",
    "    def aggiungi_dati(self, dict_dati):\n",
    "        pass\n",
    "\n",
    "    def costi_carburanti_urbano_annuo(self):\n",
    "        pass\n",
    "\n",
    "    def costi_carburanti_extraurbano_annuo(self):\n",
    "        pass\n",
    "\n",
    "    def costi_carburanti_annui(self):\n",
    "        pass\n",
    "\n",
    "    def calcola_bollo(self):\n",
    "        pass\n",
    "\n",
    "    def costo_cumulativo(auto, anni):\n",
    "        pass"
   ]
  },
  {
   "cell_type": "code",
   "execution_count": 31,
   "metadata": {},
   "outputs": [],
   "source": [
    "class GPL(Auto):\n",
    "\n",
    "    TIPO = 'GPL'\n",
    "\n",
    "    def __init__(self, nome, eta):\n",
    "        super().__init__(nome, eta)\n",
    "        self.consumo_gpl_litro_urbano = 0\n",
    "        self.consumo_benzina_litro_urbano = 0\n",
    "        self.consumo_gpl_litro_extraurbano = 0\n",
    "        self.consumo_benzina_litro_extraurbano = 0\n",
    "        self.percentuale_gpl = 0\n",
    "        self.percentuale_urbano = 0\n",
    "        self.potenza = 0\n",
    "        self.costo_iniziale = 0\n",
    "        self.costo_manutenzione = 0\n",
    "\n",
    "    def aggiungi_carburante(self, dict_dati):\n",
    "        self.consumo_gpl_litro_urbano = dict_dati['consumo_gpl_litro_urbano']\n",
    "        self.consumo_benzina_litro_urbano = dict_dati['consumo_benzina_litro_urbano']\n",
    "        self.consumo_gpl_litro_extraurbano = dict_dati['consumo_gpl_litro_extraurbano']\n",
    "        self.consumo_benzina_litro_extraurbano = dict_dati['consumo_benzina_litro_extraurbano']\n",
    "        self.percentuale_gpl = dict_dati['percentuale_gpl']\n",
    "        self.percentuale_urbano = dict_dati['percentuale_urbano']\n",
    "        self.potenza = dict_dati['potenza']\n",
    "        self.costo_iniziale = dict_dati['costo_iniziale']\n",
    "        self.costo_manutenzione = dict_dati['costo_manutenzione']\n",
    "\n",
    "    def costi_carburanti_urbano_annuo(self, dict_costi_attuali):\n",
    "        costo_gpl_km_urbano = self.consumo_gpl_litro_urbano * self.percentuale_gpl * dict_costi_attuali['costo_gpl']\n",
    "        costo_benzina_km_urbano = self.consumo_benzina_litro_urbano * (1 - self.percentuale_gpl) * dict_costi_attuali['costo_benzina']\n",
    "        return dict_costi_attuali['km_annui'] * (costo_gpl_km_urbano + costo_benzina_km_urbano)\n",
    "\n",
    "    def costi_carburanti_extraurbano_annuo(self, dict_costi_attuali):\n",
    "        costo_gpl_km_extraurbano = self.consumo_gpl_litro_extraurbano * self.percentuale_gpl * dict_costi_attuali['costo_gpl']\n",
    "        costo_benzina_km_extraurbano = self.consumo_benzina_litro_extraurbano * (1 - self.percentuale_gpl) * dict_costi_attuali['costo_benzina']\n",
    "        return dict_costi_attuali['km_annui'] * (costo_gpl_km_extraurbano + costo_benzina_km_extraurbano)\n",
    "\n",
    "    def costi_carburanti_annuo(self, dict_costi_attuali):\n",
    "        return self.costi_carburanti_urbano_annuo(dict_costi_attuali) * self.percentuale_urbano + self.costi_carburanti_extraurbano_annuo(dict_costi_attuali) * (1 - self.percentuale_urbano)\n",
    "\n",
    "    def calcola_bollo(self):\n",
    "        return self.potenza * 2.58 * 0.25\n",
    "\n",
    "    def costo_cumulativo(self, anni, dict_costi_attuali):\n",
    "        costo_iniziale = self.costo_iniziale\n",
    "        costo_carburanti_annuo = self.costi_carburanti_annuo(dict_costi_attuali)\n",
    "        costo_bollo = self.calcola_bollo\n",
    "        costo_manutenzione = self.costo_manutenzione\n",
    "        costo_cambio_bombola = int((anni + self.eta) / 10) * 500\n",
    "        return costo_iniziale + (costo_carburanti_annuo + costo_bollo + costo_manutenzione) * anni + costo_cambio_bombola"
   ]
  },
  {
   "cell_type": "code",
   "execution_count": 32,
   "metadata": {},
   "outputs": [
    {
     "ename": "TypeError",
     "evalue": "unsupported operand type(s) for +: 'float' and 'method'",
     "output_type": "error",
     "traceback": [
      "\u001b[1;31m---------------------------------------------------------------------------\u001b[0m",
      "\u001b[1;31mTypeError\u001b[0m                                 Traceback (most recent call last)",
      "\u001b[1;32m~\\AppData\\Local\\Temp/ipykernel_4712/1461261471.py\u001b[0m in \u001b[0;36m<module>\u001b[1;34m\u001b[0m\n\u001b[0;32m     12\u001b[0m })\n\u001b[0;32m     13\u001b[0m \u001b[1;33m\u001b[0m\u001b[0m\n\u001b[1;32m---> 14\u001b[1;33m sandero_streetway.costo_cumulativo(20, {\n\u001b[0m\u001b[0;32m     15\u001b[0m     \u001b[1;34m'km_annui'\u001b[0m\u001b[1;33m:\u001b[0m \u001b[1;36m12000\u001b[0m\u001b[1;33m,\u001b[0m\u001b[1;33m\u001b[0m\u001b[1;33m\u001b[0m\u001b[0m\n\u001b[0;32m     16\u001b[0m     \u001b[1;34m'costo_gpl'\u001b[0m\u001b[1;33m:\u001b[0m \u001b[1;36m0.809\u001b[0m\u001b[1;33m,\u001b[0m\u001b[1;33m\u001b[0m\u001b[1;33m\u001b[0m\u001b[0m\n",
      "\u001b[1;32m~\\AppData\\Local\\Temp/ipykernel_4712/562345973.py\u001b[0m in \u001b[0;36mcosto_cumulativo\u001b[1;34m(self, anni, dict_costi_attuali)\u001b[0m\n\u001b[0;32m     48\u001b[0m         \u001b[0mcosto_manutenzione\u001b[0m \u001b[1;33m=\u001b[0m \u001b[0mself\u001b[0m\u001b[1;33m.\u001b[0m\u001b[0mcosto_manutenzione\u001b[0m\u001b[1;33m\u001b[0m\u001b[1;33m\u001b[0m\u001b[0m\n\u001b[0;32m     49\u001b[0m         \u001b[0mcosto_cambio_bombola\u001b[0m \u001b[1;33m=\u001b[0m \u001b[0mint\u001b[0m\u001b[1;33m(\u001b[0m\u001b[1;33m(\u001b[0m\u001b[0manni\u001b[0m \u001b[1;33m+\u001b[0m \u001b[0mself\u001b[0m\u001b[1;33m.\u001b[0m\u001b[0meta\u001b[0m\u001b[1;33m)\u001b[0m \u001b[1;33m/\u001b[0m \u001b[1;36m10\u001b[0m\u001b[1;33m)\u001b[0m \u001b[1;33m*\u001b[0m \u001b[1;36m500\u001b[0m\u001b[1;33m\u001b[0m\u001b[1;33m\u001b[0m\u001b[0m\n\u001b[1;32m---> 50\u001b[1;33m         \u001b[1;32mreturn\u001b[0m \u001b[0mcosto_iniziale\u001b[0m \u001b[1;33m+\u001b[0m \u001b[1;33m(\u001b[0m\u001b[0mcosto_carburanti_annuo\u001b[0m \u001b[1;33m+\u001b[0m \u001b[0mcosto_bollo\u001b[0m \u001b[1;33m+\u001b[0m \u001b[0mcosto_manutenzione\u001b[0m\u001b[1;33m)\u001b[0m \u001b[1;33m*\u001b[0m \u001b[0manni\u001b[0m \u001b[1;33m+\u001b[0m \u001b[0mcosto_cambio_bombola\u001b[0m\u001b[1;33m\u001b[0m\u001b[1;33m\u001b[0m\u001b[0m\n\u001b[0m",
      "\u001b[1;31mTypeError\u001b[0m: unsupported operand type(s) for +: 'float' and 'method'"
     ]
    }
   ],
   "source": [
    "sandero_streetway = GPL('Sandero Streetway 2021', 0)\n",
    "sandero_streetway.aggiungi_dati({\n",
    "    'consumo_gpl_litro_urbano': 7.33,\n",
    "    'consumo_benzina_litro_urbano': 5.66,\n",
    "    'consumo_gpl_litro_extraurbano': 9.33,\n",
    "    'consumo_benzina_litro_extraurbano': 7.66,\n",
    "    'percentuale_gpl': 120 / 170,\n",
    "    'percentuale_urbano': 0.5,\n",
    "    'potenza': 74,\n",
    "    'costo_iniziale': 14500,\n",
    "    'costo_manutenzione': 250\n",
    "})\n",
    "\n",
    "sandero_streetway.costo_cumulativo(20, {\n",
    "    'km_annui': 12000,\n",
    "    'costo_gpl': 0.809,\n",
    "    'costo_benzina': 1.769\n",
    "})"
   ]
  },
  {
   "cell_type": "code",
   "execution_count": 112,
   "metadata": {},
   "outputs": [],
   "source": [
    "def calcola_bollo(potenza, tipo):\n",
    "    bollo = potenza * 2.58\n",
    "    if tipo == 'GPL':\n",
    "        bollo = bollo * 0.25\n",
    "    return bollo"
   ]
  },
  {
   "cell_type": "code",
   "execution_count": 113,
   "metadata": {},
   "outputs": [],
   "source": [
    "def costo_cumulativo(auto, numero_mesi, chilometri_mese, rapporto_urbano):\n",
    "    costo_finale = auto.costo_iniziale\n",
    "    \n",
    "    for mese in range(1, numero_mesi + 1):\n",
    "        costo_consumi_urbano = 0\n",
    "        costo_consumi_extraurbano = 0\n",
    "        costo_manutenzione = 0\n",
    "        costo_bollo = 0\n",
    "\n",
    "        costo_consumi_urbano += auto.efficienza_urbana * auto.costo_carburante * chilometri_mese * rapporto_urbano\n",
    "        costo_consumi_extraurbano += auto.efficienza_extraurbana * auto.costo_carburante * chilometri_mese * (1 - rapporto_urbano)\n",
    "\n",
    "        if mese % 12 == 0:\n",
    "            costo_bollo += calcola_bollo(auto.potenza, auto.tipo)\n",
    "        else:\n",
    "            costo_bollo += 0\n",
    "        \n",
    "        if (mese * chilometri_mese) % auto.frequenza_manutenzione == 0 and mese * chilometri_mese > auto.frequenza_manutenzione:\n",
    "            costo_manutenzione += auto.costo_manutenzione\n",
    "        else:\n",
    "            costo_manutenzione = 0\n",
    "\n",
    "        if int((mese / 12) + auto.eta) == 10 and auto.tipo == 'GPL':\n",
    "            costo_manutenzione += 500\n",
    "            auto.eta = 0\n",
    "\n",
    "        costo_finale += costo_consumi_urbano + costo_consumi_extraurbano + costo_bollo + costo_manutenzione\n",
    "    \n",
    "    return costo_finale"
   ]
  },
  {
   "cell_type": "code",
   "execution_count": 114,
   "metadata": {},
   "outputs": [],
   "source": [
    "gpl = Auto(7800, 0.061, 0.043, 0.809, 250, 15000, 59, 4, 'GPL')\n",
    "\n",
    "costo_gpl = costo_cumulativo(gpl, 96, 1250, 0.7)"
   ]
  },
  {
   "cell_type": "code",
   "execution_count": 115,
   "metadata": {},
   "outputs": [],
   "source": [
    "benzina = Auto(6800, 0.058, 0.043, 1.699, 150, 15000, 51, 4, 'BENZINA')\n",
    "\n",
    "costo_benzina = costo_cumulativo(benzina, 96, 1250, 0.7)"
   ]
  },
  {
   "cell_type": "code",
   "execution_count": 116,
   "metadata": {},
   "outputs": [],
   "source": [
    "diesel = Auto(6700, 0.044, 0.029, 1.579, 150, 15000, 70, 4, 'DIESEL')\n",
    "\n",
    "costo_diesel = costo_cumulativo(diesel, 96, 1250, 0.7)"
   ]
  },
  {
   "cell_type": "code",
   "execution_count": 117,
   "metadata": {},
   "outputs": [
    {
     "name": "stdout",
     "output_type": "stream",
     "text": [
      "Costo iniziale GPL: 7800 Costo accumulato in 8 anni: 15752.088000000047\n",
      "Costo iniziale BENZINA: 6800 Costo accumulato in 8 anni: 19810.21999999996\n",
      "Costo iniziale DIESEL: 6700 Costo accumulato in 8 anni: 16679.26000000002\n"
     ]
    }
   ],
   "source": [
    "print('Costo iniziale GPL:', gpl.costo_iniziale, 'Costo accumulato in 8 anni:', costo_gpl)\n",
    "print('Costo iniziale BENZINA:', benzina.costo_iniziale, 'Costo accumulato in 8 anni:', costo_benzina)\n",
    "print('Costo iniziale DIESEL:', diesel.costo_iniziale, 'Costo accumulato in 8 anni:', costo_diesel)"
   ]
  },
  {
   "cell_type": "code",
   "execution_count": 6,
   "metadata": {},
   "outputs": [],
   "source": [
    "def costi_misti(consumi_gpl, consumi_benzina, costo_gpl, costo_benzina, km_annui, percentuale_gpl):\n",
    "    costo_gpl_km = consumi_gpl * percentuale_gpl * costo_gpl\n",
    "    costo_benzina_km = consumi_benzina * (1 - percentuale_gpl) * costo_benzina\n",
    "    return km_annui * (costo_gpl_km + costo_benzina_km)"
   ]
  },
  {
   "cell_type": "code",
   "execution_count": 13,
   "metadata": {},
   "outputs": [
    {
     "data": {
      "text/plain": [
       "929.69808"
      ]
     },
     "execution_count": 13,
     "metadata": {},
     "output_type": "execute_result"
    }
   ],
   "source": [
    "consumi_gpl = 8.33 / 100\n",
    "consumi_benzina = 6.66 / 100\n",
    "costo_gpl = 0.809\n",
    "costo_benzina = 1.769\n",
    "km_annui = 12000\n",
    "percentuale_gpl = 120 / 150\n",
    "costi_misti(consumi_gpl, consumi_benzina, costo_gpl, costo_benzina, km_annui, percentuale_gpl)"
   ]
  },
  {
   "cell_type": "code",
   "execution_count": 14,
   "metadata": {},
   "outputs": [
    {
     "data": {
      "text/plain": [
       "696.2783999999999"
      ]
     },
     "execution_count": 14,
     "metadata": {},
     "output_type": "execute_result"
    }
   ],
   "source": [
    "consumi_gpl = 0\n",
    "consumi_benzina = 4.3 / 100\n",
    "consumi_benzina_urbano = 2.6 / 100\n",
    "costo_gpl = 0.809\n",
    "costo_benzina = 1.769\n",
    "km_annui = 12000\n",
    "percentuale_gpl = 0\n",
    "costi_extra = costi_misti(consumi_gpl, consumi_benzina, costo_gpl, costo_benzina, km_annui, percentuale_gpl)\n",
    "costi_urbani = costi_misti(consumi_gpl, consumi_benzina_urbano, costo_gpl, costo_benzina, km_annui, percentuale_gpl)\n",
    "costi_extra * 0.4 + costi_urbani * 0.6"
   ]
  },
  {
   "cell_type": "code",
   "execution_count": null,
   "metadata": {},
   "outputs": [],
   "source": []
  }
 ],
 "metadata": {
  "interpreter": {
   "hash": "b89b5cfaba6639976dc87ff2fec6d58faec662063367e2c229c520fe71072417"
  },
  "kernelspec": {
   "display_name": "Python 3.10.0 64-bit",
   "language": "python",
   "name": "python3"
  },
  "language_info": {
   "codemirror_mode": {
    "name": "ipython",
    "version": 3
   },
   "file_extension": ".py",
   "mimetype": "text/x-python",
   "name": "python",
   "nbconvert_exporter": "python",
   "pygments_lexer": "ipython3",
   "version": "3.10.0"
  },
  "orig_nbformat": 4
 },
 "nbformat": 4,
 "nbformat_minor": 2
}
