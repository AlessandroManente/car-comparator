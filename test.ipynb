{
 "cells": [
  {
   "cell_type": "code",
   "execution_count": 1,
   "metadata": {},
   "outputs": [],
   "source": [
    "import numpy as np\n",
    "import pandas as pd\n",
    "import matplotlib.pyplot as plt\n",
    "import sys"
   ]
  },
  {
   "cell_type": "code",
   "execution_count": 111,
   "metadata": {},
   "outputs": [],
   "source": [
    "class Auto:\n",
    "\n",
    "    def __init__(self, costo_iniziale, efficienza_urbana, efficienza_extraurbana, costo_carburante, costo_manutenzione, frequenza_manutenzione, potenza, eta, tipo):\n",
    "        self.costo_iniziale = costo_iniziale\n",
    "        self.efficienza_urbana = efficienza_urbana\n",
    "        self.efficienza_extraurbana = efficienza_extraurbana\n",
    "        self.costo_carburante = costo_carburante\n",
    "        self.costo_manutenzione = costo_manutenzione\n",
    "        self.frequenza_manutenzione = frequenza_manutenzione\n",
    "        self.potenza = potenza\n",
    "        self.eta = eta\n",
    "        self.tipo = tipo"
   ]
  },
  {
   "cell_type": "code",
   "execution_count": 112,
   "metadata": {},
   "outputs": [],
   "source": [
    "def calcola_bollo(potenza, tipo):\n",
    "    bollo = potenza * 2.58\n",
    "    if tipo == 'GPL':\n",
    "        bollo = bollo * 0.25\n",
    "    return bollo"
   ]
  },
  {
   "cell_type": "code",
   "execution_count": 113,
   "metadata": {},
   "outputs": [],
   "source": [
    "def costo_cumulativo(auto, numero_mesi, chilometri_mese, rapporto_urbano):\n",
    "    costo_finale = auto.costo_iniziale\n",
    "    \n",
    "    for mese in range(1, numero_mesi + 1):\n",
    "        costo_consumi_urbano = 0\n",
    "        costo_consumi_extraurbano = 0\n",
    "        costo_manutenzione = 0\n",
    "        costo_bollo = 0\n",
    "\n",
    "        costo_consumi_urbano += auto.efficienza_urbana * auto.costo_carburante * chilometri_mese * rapporto_urbano\n",
    "        costo_consumi_extraurbano += auto.efficienza_extraurbana * auto.costo_carburante * chilometri_mese * (1 - rapporto_urbano)\n",
    "\n",
    "        if mese % 12 == 0:\n",
    "            costo_bollo += calcola_bollo(auto.potenza, auto.tipo)\n",
    "        else:\n",
    "            costo_bollo += 0\n",
    "        \n",
    "        if (mese * chilometri_mese) % auto.frequenza_manutenzione == 0 and mese * chilometri_mese > auto.frequenza_manutenzione:\n",
    "            costo_manutenzione += auto.costo_manutenzione\n",
    "        else:\n",
    "            costo_manutenzione = 0\n",
    "\n",
    "        if int((mese / 12) + auto.eta) == 10 and auto.tipo == 'GPL':\n",
    "            costo_manutenzione += 500\n",
    "            auto.eta = 0\n",
    "\n",
    "        costo_finale += costo_consumi_urbano + costo_consumi_extraurbano + costo_bollo + costo_manutenzione\n",
    "    \n",
    "    return costo_finale"
   ]
  },
  {
   "cell_type": "code",
   "execution_count": 114,
   "metadata": {},
   "outputs": [],
   "source": [
    "gpl = Auto(7800, 0.061, 0.043, 0.809, 250, 15000, 59, 4, 'GPL')\n",
    "\n",
    "costo_gpl = costo_cumulativo(gpl, 96, 1250, 0.7)"
   ]
  },
  {
   "cell_type": "code",
   "execution_count": 115,
   "metadata": {},
   "outputs": [],
   "source": [
    "benzina = Auto(6800, 0.058, 0.043, 1.699, 150, 15000, 51, 4, 'BENZINA')\n",
    "\n",
    "costo_benzina = costo_cumulativo(benzina, 96, 1250, 0.7)"
   ]
  },
  {
   "cell_type": "code",
   "execution_count": 116,
   "metadata": {},
   "outputs": [],
   "source": [
    "diesel = Auto(6700, 0.044, 0.029, 1.579, 150, 15000, 70, 4, 'DIESEL')\n",
    "\n",
    "costo_diesel = costo_cumulativo(diesel, 96, 1250, 0.7)"
   ]
  },
  {
   "cell_type": "code",
   "execution_count": 117,
   "metadata": {},
   "outputs": [
    {
     "name": "stdout",
     "output_type": "stream",
     "text": [
      "Costo iniziale GPL: 7800 Costo accumulato in 8 anni: 15752.088000000047\n",
      "Costo iniziale BENZINA: 6800 Costo accumulato in 8 anni: 19810.21999999996\n",
      "Costo iniziale DIESEL: 6700 Costo accumulato in 8 anni: 16679.26000000002\n"
     ]
    }
   ],
   "source": [
    "print('Costo iniziale GPL:', gpl.costo_iniziale, 'Costo accumulato in 8 anni:', costo_gpl)\n",
    "print('Costo iniziale BENZINA:', benzina.costo_iniziale, 'Costo accumulato in 8 anni:', costo_benzina)\n",
    "print('Costo iniziale DIESEL:', diesel.costo_iniziale, 'Costo accumulato in 8 anni:', costo_diesel)"
   ]
  },
  {
   "cell_type": "code",
   "execution_count": null,
   "metadata": {},
   "outputs": [],
   "source": []
  }
 ],
 "metadata": {
  "interpreter": {
   "hash": "b89b5cfaba6639976dc87ff2fec6d58faec662063367e2c229c520fe71072417"
  },
  "kernelspec": {
   "display_name": "Python 3.10.0 64-bit",
   "language": "python",
   "name": "python3"
  },
  "language_info": {
   "codemirror_mode": {
    "name": "ipython",
    "version": 3
   },
   "file_extension": ".py",
   "mimetype": "text/x-python",
   "name": "python",
   "nbconvert_exporter": "python",
   "pygments_lexer": "ipython3",
   "version": "3.10.0"
  },
  "orig_nbformat": 4
 },
 "nbformat": 4,
 "nbformat_minor": 2
}
