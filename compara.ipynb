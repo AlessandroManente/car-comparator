{
 "cells": [
  {
   "cell_type": "code",
   "execution_count": 1,
   "metadata": {},
   "outputs": [],
   "source": [
    "import numpy as np\n",
    "import pandas as pd\n",
    "import matplotlib.pyplot as plt\n",
    "import matplotlib.transforms as transforms\n",
    "import sys\n",
    "from main import *"
   ]
  },
  {
   "cell_type": "code",
   "execution_count": 2,
   "metadata": {},
   "outputs": [
    {
     "data": {
      "text/html": [
       "<div>\n",
       "<style scoped>\n",
       "    .dataframe tbody tr th:only-of-type {\n",
       "        vertical-align: middle;\n",
       "    }\n",
       "\n",
       "    .dataframe tbody tr th {\n",
       "        vertical-align: top;\n",
       "    }\n",
       "\n",
       "    .dataframe thead th {\n",
       "        text-align: right;\n",
       "    }\n",
       "</style>\n",
       "<table border=\"1\" class=\"dataframe\">\n",
       "  <thead>\n",
       "    <tr style=\"text-align: right;\">\n",
       "      <th></th>\n",
       "      <th>nome</th>\n",
       "      <th>età</th>\n",
       "      <th>tipo</th>\n",
       "      <th>consumo_benzina_litro_urbano</th>\n",
       "      <th>consumo_benzina_litro_extraurbano</th>\n",
       "      <th>consumo_gpl_litro_urbano</th>\n",
       "      <th>consumo_gpl_litro_extraurbano</th>\n",
       "      <th>percentuale_gpl</th>\n",
       "      <th>percentuale_urbano</th>\n",
       "      <th>potenza</th>\n",
       "      <th>costo_iniziale</th>\n",
       "      <th>costo_manutenzione</th>\n",
       "    </tr>\n",
       "  </thead>\n",
       "  <tbody>\n",
       "    <tr>\n",
       "      <th>0</th>\n",
       "      <td>Sandero_Streetway_2021</td>\n",
       "      <td>0</td>\n",
       "      <td>GPL</td>\n",
       "      <td>5.4</td>\n",
       "      <td>0</td>\n",
       "      <td>7</td>\n",
       "      <td>0</td>\n",
       "      <td>0.66</td>\n",
       "      <td>1</td>\n",
       "      <td>74</td>\n",
       "      <td>14500</td>\n",
       "      <td>250</td>\n",
       "    </tr>\n",
       "    <tr>\n",
       "      <th>1</th>\n",
       "      <td>Toyota_Yaris_Cross_2022</td>\n",
       "      <td>0</td>\n",
       "      <td>BENZINA</td>\n",
       "      <td>4.4</td>\n",
       "      <td>0</td>\n",
       "      <td>0</td>\n",
       "      <td>0</td>\n",
       "      <td>0.00</td>\n",
       "      <td>1</td>\n",
       "      <td>85</td>\n",
       "      <td>23150</td>\n",
       "      <td>150</td>\n",
       "    </tr>\n",
       "  </tbody>\n",
       "</table>\n",
       "</div>"
      ],
      "text/plain": [
       "                      nome  età     tipo  consumo_benzina_litro_urbano  \\\n",
       "0   Sandero_Streetway_2021    0      GPL                           5.4   \n",
       "1  Toyota_Yaris_Cross_2022    0  BENZINA                           4.4   \n",
       "\n",
       "   consumo_benzina_litro_extraurbano  consumo_gpl_litro_urbano  \\\n",
       "0                                  0                         7   \n",
       "1                                  0                         0   \n",
       "\n",
       "   consumo_gpl_litro_extraurbano  percentuale_gpl  percentuale_urbano  \\\n",
       "0                              0             0.66                   1   \n",
       "1                              0             0.00                   1   \n",
       "\n",
       "   potenza  costo_iniziale  costo_manutenzione  \n",
       "0       74           14500                 250  \n",
       "1       85           23150                 150  "
      ]
     },
     "execution_count": 2,
     "metadata": {},
     "output_type": "execute_result"
    }
   ],
   "source": [
    "data = pd.read_csv(\"data\\car_database.csv\")\n",
    "data"
   ]
  },
  {
   "cell_type": "code",
   "execution_count": 3,
   "metadata": {},
   "outputs": [],
   "source": [
    "auto_1_csv = data[data[\"nome\"] == \"Sandero_Streetway_2021\"].reset_index()\n",
    "auto_1 = carica_auto_GPL(auto_1_csv)"
   ]
  },
  {
   "cell_type": "code",
   "execution_count": 4,
   "metadata": {},
   "outputs": [],
   "source": [
    "auto_2_csv = data[data[\"nome\"] == \"Toyota_Yaris_Cross_2022\"].reset_index()\n",
    "auto_2 = carica_auto_BENZINA(auto_2_csv)"
   ]
  },
  {
   "cell_type": "code",
   "execution_count": 5,
   "metadata": {},
   "outputs": [],
   "source": [
    "COSTO_GPL = 0.809\n",
    "COSTO_BENZINA = 1.769\n",
    "KM_ANNUI = 12000\n",
    "ANNI = 20\n",
    "\n",
    "DATI_COSTI_GPL = {\n",
    "    \"km_annui\": KM_ANNUI,\n",
    "    \"costo_gpl\": COSTO_GPL,\n",
    "    \"costo_benzina\": COSTO_BENZINA,\n",
    "}\n",
    "DATI_COSTI_BENZINA = {\"km_annui\": KM_ANNUI, \"costo_benzina\": COSTO_BENZINA}\n"
   ]
  },
  {
   "cell_type": "code",
   "execution_count": 6,
   "metadata": {},
   "outputs": [
    {
     "name": "stdout",
     "output_type": "stream",
     "text": [
      "Sandero Streetway 2021: 38219.71\n",
      "Toyota Yaris Cross 2022: 44830.64\n"
     ]
    },
    {
     "data": {
      "image/png": "[encoded data removed]",
      "text/plain": [
       "<Figure size 432x288 with 1 Axes>"
      ]
     },
     "metadata": {
      "needs_background": "light"
     },
     "output_type": "display_data"
    }
   ],
   "source": [
    "compara_due_auto(\n",
    "    auto_1,\n",
    "    auto_2,\n",
    "    ANNI,\n",
    "    DATI_COSTI_GPL,\n",
    "    DATI_COSTI_BENZINA,\n",
    ")\n"
   ]
  },
  {
   "cell_type": "code",
   "execution_count": null,
   "metadata": {},
   "outputs": [],
   "source": []
  }
 ],
 "metadata": {
  "interpreter": {
   "hash": "b89b5cfaba6639976dc87ff2fec6d58faec662063367e2c229c520fe71072417"
  },
  "kernelspec": {
   "display_name": "Python 3.10.0 64-bit",
   "language": "python",
   "name": "python3"
  },
  "language_info": {
   "codemirror_mode": {
    "name": "ipython",
    "version": 3
   },
   "file_extension": ".py",
   "mimetype": "text/x-python",
   "name": "python",
   "nbconvert_exporter": "python",
   "pygments_lexer": "ipython3",
   "version": "3.10.0"
  },
  "orig_nbformat": 4
 },
 "nbformat": 4,
 "nbformat_minor": 2
}
